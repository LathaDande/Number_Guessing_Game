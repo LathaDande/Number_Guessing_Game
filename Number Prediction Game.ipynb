{
  "nbformat": 4,
  "nbformat_minor": 0,
  "metadata": {
    "colab": {
      "provenance": [],
      "authorship_tag": "ABX9TyNTDRl24wecxg6vzY36OjLy",
      "include_colab_link": true
    },
    "kernelspec": {
      "name": "python3",
      "display_name": "Python 3"
    },
    "language_info": {
      "name": "python"
    }
  },
  "cells": [
    {
      "cell_type": "markdown",
      "metadata": {
        "id": "view-in-github",
        "colab_type": "text"
      },
      "source": [
        "<a href=\"https://colab.research.google.com/github/LathaDande/Number_Guessing_Game/blob/main/Number%20Prediction%20Game.ipynb\" target=\"_parent\"><img src=\"https://colab.research.google.com/assets/colab-badge.svg\" alt=\"Open In Colab\"/></a>"
      ]
    },
    {
      "cell_type": "code",
      "execution_count": null,
      "metadata": {
        "id": "v8Wx7UIcjWUC"
      },
      "outputs": [],
      "source": [
        "# Number Guessing Game:\n",
        "# Develop a game where the computer randomly selects a number, and the user has to guess it within a certain number of attempts.\n",
        "\n",
        "import numpy as np\n",
        "import numpy.random as r\n",
        "\n",
        "\n",
        "def Guess():\n",
        "    guess_number = r.randint(10)\n",
        "    count = 0\n",
        "    while True:\n",
        "        try:\n",
        "            user_number = int(input(\"Enter your guessing number b/w (0-9):\"))\n",
        "            count += 1\n",
        "            if user_number == guess_number:\n",
        "                print(\"Congratulations your guessing is Correct\")\n",
        "                break\n",
        "            else:\n",
        "                if user_number > guess_number:\n",
        "                    print(\"Your Number is greater than Random Number\")\n",
        "                else:\n",
        "                    print(\"Your Number is lower than Random Number\")\n",
        "                print(f\"{count} Wrong guess, try again!\")\n",
        "\n",
        "        except ValueError:\n",
        "            print(\"Enter Numerical Value Only\")\n",
        "\n",
        "    print(f\"The correct number was: {guess_number}\")\n",
        "    print(f\"You guessed {user_number} in {count} attempts.\")\n",
        "\n",
        "\n",
        "print(\"Welcome to play Number Guessing Game\")\n",
        "while True:\n",
        "    user = input(\"Are you ready to play (Yes/No)? \").strip()\n",
        "    if user.upper() == \"YES\":\n",
        "        Guess()\n",
        "    elif user.lower() == \"no\":\n",
        "        print(\"Thank you for playing!\")\n",
        "        break  # Exit the loop if the user does not want to play\n",
        "    else:\n",
        "        print(\"Please enter a valid input (Yes or No).\")\n"
      ]
    }
  ]
}